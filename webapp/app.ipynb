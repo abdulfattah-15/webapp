{
 "cells": [
  {
   "cell_type": "code",
   "execution_count": null,
   "metadata": {},
   "outputs": [
    {
     "name": "stdout",
     "output_type": "stream",
     "text": [
      " * Serving Flask app \"__main__\" (lazy loading)\n",
      " * Environment: production\n",
      "   WARNING: This is a development server. Do not use it in a production deployment.\n",
      "   Use a production WSGI server instead.\n",
      " * Debug mode: off\n"
     ]
    },
    {
     "name": "stderr",
     "output_type": "stream",
     "text": [
      " * Running on http://127.0.0.1:5000/ (Press CTRL+C to quit)\n",
      "127.0.0.1 - - [20/Jun/2022 20:55:23] \"\u001b[37mGET / HTTP/1.1\u001b[0m\" 200 -\n",
      "127.0.0.1 - - [20/Jun/2022 20:55:27] \"\u001b[37mGET /Try-Model.html HTTP/1.1\u001b[0m\" 200 -\n",
      "127.0.0.1 - - [20/Jun/2022 20:55:30] \"\u001b[37mPOST /Try-Model.html HTTP/1.1\u001b[0m\" 200 -\n",
      "127.0.0.1 - - [20/Jun/2022 20:55:33] \"\u001b[37mGET /Main-Dashboard.html HTTP/1.1\u001b[0m\" 200 -\n",
      "127.0.0.1 - - [20/Jun/2022 20:55:35] \"\u001b[37mGET /Try-Model.html HTTP/1.1\u001b[0m\" 200 -\n",
      "127.0.0.1 - - [20/Jun/2022 20:55:51] \"\u001b[37mGET /Main-Dashboard.html HTTP/1.1\u001b[0m\" 200 -\n",
      "127.0.0.1 - - [20/Jun/2022 20:55:55] \"\u001b[37mGET /Machine-Learning.html HTTP/1.1\u001b[0m\" 200 -\n"
     ]
    }
   ],
   "source": [
    "import pandas as pd\n",
    "import flask\n",
    "import pickle\n",
    "import xgboost\n",
    "# Use pickle to load in the pre-trained model.\n",
    "with open(f'model/transformeter.pkl', 'rb') as f:\n",
    "    model = pickle.load(f)\n",
    "    app = flask.Flask(__name__, template_folder='templates')\n",
    "@app.route('/')\n",
    "def main():\n",
    "    return(flask.render_template('Main-Dashboard.html'))\n",
    "@app.route('/Main-Dashboard.html')\n",
    "def main2():\n",
    "    return(flask.render_template('Main-Dashboard.html'))\n",
    "@app.route('/Machine-Learning.html')\n",
    "def machine():\n",
    "    return(flask.render_template('Machine-Learning.html'))\n",
    "@app.route('/Try-Model.html', methods=['GET', 'POST'])\n",
    "def index():\n",
    "    if flask.request.method == 'GET':\n",
    "        return(flask.render_template('Try-Model.html'))\n",
    "    if flask.request.method == 'POST':\n",
    "        Temperature = flask.request.form['temperature']\n",
    "        Humidity = flask.request.form['humidity']\n",
    "        input_variables = pd.DataFrame([[Temperature, Humidity]],\n",
    "                                       columns=['temperature', 'humidity'],\n",
    "                                       dtype=float)\n",
    "        prediction = model.predict(input_variables)[0]\n",
    "        return flask.render_template('Try-Model.html',\n",
    "                                     original_input={'Temperature':Temperature,\n",
    "                                                     'Humidity':Humidity},\n",
    "                                     result=prediction,\n",
    "                                     )\n",
    "app.run()"
   ]
  },
  {
   "cell_type": "code",
   "execution_count": null,
   "metadata": {},
   "outputs": [],
   "source": []
  },
  {
   "cell_type": "code",
   "execution_count": null,
   "metadata": {},
   "outputs": [],
   "source": []
  }
 ],
 "metadata": {
  "kernelspec": {
   "display_name": "Python 3",
   "language": "python",
   "name": "python3"
  },
  "language_info": {
   "codemirror_mode": {
    "name": "ipython",
    "version": 3
   },
   "file_extension": ".py",
   "mimetype": "text/x-python",
   "name": "python",
   "nbconvert_exporter": "python",
   "pygments_lexer": "ipython3",
   "version": "3.7.6"
  }
 },
 "nbformat": 4,
 "nbformat_minor": 4
}
